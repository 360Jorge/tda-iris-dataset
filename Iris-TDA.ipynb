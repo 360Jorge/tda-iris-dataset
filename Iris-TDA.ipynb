{
 "cells": [
  {
   "cell_type": "code",
   "execution_count": 10,
   "id": "fcaed120-9354-48e7-90b1-a16f9757a3ea",
   "metadata": {},
   "outputs": [],
   "source": [
    "import numpy as np\n",
    "import pandas as pd\n",
    "import scipy as sp\n",
    "import matplotlib.pyplot as plt\n",
    "from matplotlib import cm\n",
    "\n",
    "import sktda"
   ]
  },
  {
   "cell_type": "code",
   "execution_count": 11,
   "id": "d80664a5-abe4-4fed-8595-510626543f47",
   "metadata": {},
   "outputs": [],
   "source": [
    "data = pd.read_csv('Iris.csv')"
   ]
  },
  {
   "cell_type": "code",
   "execution_count": 13,
   "id": "53bb7ef0-d1c5-47f2-9d63-6da9efe20558",
   "metadata": {},
   "outputs": [
    {
     "data": {
      "text/html": [
       "<div>\n",
       "<style scoped>\n",
       "    .dataframe tbody tr th:only-of-type {\n",
       "        vertical-align: middle;\n",
       "    }\n",
       "\n",
       "    .dataframe tbody tr th {\n",
       "        vertical-align: top;\n",
       "    }\n",
       "\n",
       "    .dataframe thead th {\n",
       "        text-align: right;\n",
       "    }\n",
       "</style>\n",
       "<table border=\"1\" class=\"dataframe\">\n",
       "  <thead>\n",
       "    <tr style=\"text-align: right;\">\n",
       "      <th></th>\n",
       "      <th>Id</th>\n",
       "      <th>SepalLengthCm</th>\n",
       "      <th>SepalWidthCm</th>\n",
       "      <th>PetalLengthCm</th>\n",
       "      <th>PetalWidthCm</th>\n",
       "      <th>Species</th>\n",
       "    </tr>\n",
       "  </thead>\n",
       "  <tbody>\n",
       "    <tr>\n",
       "      <th>0</th>\n",
       "      <td>1</td>\n",
       "      <td>5.1</td>\n",
       "      <td>3.5</td>\n",
       "      <td>1.4</td>\n",
       "      <td>0.2</td>\n",
       "      <td>Iris-setosa</td>\n",
       "    </tr>\n",
       "    <tr>\n",
       "      <th>1</th>\n",
       "      <td>2</td>\n",
       "      <td>4.9</td>\n",
       "      <td>3.0</td>\n",
       "      <td>1.4</td>\n",
       "      <td>0.2</td>\n",
       "      <td>Iris-setosa</td>\n",
       "    </tr>\n",
       "    <tr>\n",
       "      <th>2</th>\n",
       "      <td>3</td>\n",
       "      <td>4.7</td>\n",
       "      <td>3.2</td>\n",
       "      <td>1.3</td>\n",
       "      <td>0.2</td>\n",
       "      <td>Iris-setosa</td>\n",
       "    </tr>\n",
       "    <tr>\n",
       "      <th>3</th>\n",
       "      <td>4</td>\n",
       "      <td>4.6</td>\n",
       "      <td>3.1</td>\n",
       "      <td>1.5</td>\n",
       "      <td>0.2</td>\n",
       "      <td>Iris-setosa</td>\n",
       "    </tr>\n",
       "    <tr>\n",
       "      <th>4</th>\n",
       "      <td>5</td>\n",
       "      <td>5.0</td>\n",
       "      <td>3.6</td>\n",
       "      <td>1.4</td>\n",
       "      <td>0.2</td>\n",
       "      <td>Iris-setosa</td>\n",
       "    </tr>\n",
       "  </tbody>\n",
       "</table>\n",
       "</div>"
      ],
      "text/plain": [
       "   Id  SepalLengthCm  SepalWidthCm  PetalLengthCm  PetalWidthCm      Species\n",
       "0   1            5.1           3.5            1.4           0.2  Iris-setosa\n",
       "1   2            4.9           3.0            1.4           0.2  Iris-setosa\n",
       "2   3            4.7           3.2            1.3           0.2  Iris-setosa\n",
       "3   4            4.6           3.1            1.5           0.2  Iris-setosa\n",
       "4   5            5.0           3.6            1.4           0.2  Iris-setosa"
      ]
     },
     "execution_count": 13,
     "metadata": {},
     "output_type": "execute_result"
    }
   ],
   "source": [
    "data.head()"
   ]
  },
  {
   "cell_type": "markdown",
   "id": "6a1b319e-c9da-4822-b0b4-010ff1fff6d6",
   "metadata": {},
   "source": [
    "Convert Data to Point Cloud:\n",
    "\n",
    "Extracting relevant numerical columns for analysis and convert them to a point cloud. In this case, we are considering 'SepalLengthCm', 'SepalWidthCm', 'PetalLengthCm', 'PetalWidthCm' as our features."
   ]
  },
  {
   "cell_type": "code",
   "execution_count": 19,
   "id": "e9ca0d2c-ed43-4290-a374-0068bbf0826f",
   "metadata": {},
   "outputs": [],
   "source": [
    "# Extract numerical features\n",
    "features = data[['SepalLengthCm', 'SepalWidthCm', 'PetalLengthCm', 'PetalWidthCm']].values\n",
    "\n",
    "# Ensure the data is in a suitable format (numpy array)\n",
    "point_cloud = np.array(features)"
   ]
  },
  {
   "cell_type": "markdown",
   "id": "9f6a5941-c801-43c1-abeb-5e8952c6f44d",
   "metadata": {},
   "source": [
    "Compute Persistent Homology and Generate Persistence Diagrams:\n",
    "\n",
    "We are using the ripser library to compute the persistent homology and generate persistence diagrams"
   ]
  },
  {
   "cell_type": "code",
   "execution_count": 20,
   "id": "646c2955-67e7-4b97-bf14-c543d0b7cf8b",
   "metadata": {},
   "outputs": [
    {
     "name": "stdout",
     "output_type": "stream",
     "text": [
      "Rips(maxdim=2, thresh=inf, coeff=2, do_cocycles=False, n_perm = None, verbose=True)\n"
     ]
    }
   ],
   "source": [
    "from ripser import Rips\n",
    "\n",
    "# Create a Rips complex\n",
    "rips = Rips(maxdim=2)  # Maximum dimension of the homology to compute\n",
    "\n",
    "# Compute the persistence diagrams\n",
    "diagrams = rips.fit_transform(point_cloud) # the diagrams variable will contain the persistence diagrams."
   ]
  },
  {
   "cell_type": "markdown",
   "id": "c8af52f1-e146-47a8-8d6a-cf547c3e3497",
   "metadata": {},
   "source": [
    "To plot persistence diagrams using ripser, we manually plot them using matplotlib"
   ]
  },
  {
   "cell_type": "code",
   "execution_count": 22,
   "id": "9ff47b91-d3b2-4c2a-95ed-2464bdf1c433",
   "metadata": {},
   "outputs": [
    {
     "data": {
      "image/png": "[encoded data removed]",
      "text/plain": [
       "<Figure size 640x480 with 1 Axes>"
      ]
     },
     "metadata": {},
     "output_type": "display_data"
    }
   ],
   "source": [
    "# Assuming `diagrams` contains your persistence diagrams\n",
    "for dim, diagram in enumerate(diagrams):\n",
    "    if len(diagram) > 0:\n",
    "        plt.scatter(diagram[:, 0], diagram[:, 1], label=f'Dimension {dim}')\n",
    "plt.xlabel('Birth')\n",
    "plt.ylabel('Death')\n",
    "plt.title('Persistence Diagrams')\n",
    "plt.legend()\n",
    "plt.show()"
   ]
  },
  {
   "cell_type": "code",
   "execution_count": null,
   "id": "7ec27d9d-4cee-46db-ba85-f9a153ddd46a",
   "metadata": {},
   "outputs": [],
   "source": []
  }
 ],
 "metadata": {
  "kernelspec": {
   "display_name": "Python 3 (ipykernel)",
   "language": "python",
   "name": "python3"
  },
  "language_info": {
   "codemirror_mode": {
    "name": "ipython",
    "version": 3
   },
   "file_extension": ".py",
   "mimetype": "text/x-python",
   "name": "python",
   "nbconvert_exporter": "python",
   "pygments_lexer": "ipython3",
   "version": "3.9.18"
  }
 },
 "nbformat": 4,
 "nbformat_minor": 5
}
